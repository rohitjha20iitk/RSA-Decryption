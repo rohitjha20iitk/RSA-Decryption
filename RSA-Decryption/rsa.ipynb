{
 "cells": [
  {
   "cell_type": "code",
   "execution_count": 4,
   "metadata": {
    "collapsed": false
   },
   "outputs": [
    {
     "name": "stdout",
     "output_type": "stream",
     "text": [
      "Padding given:- You see a Gold-Bug in one corner. It is the key to a treasure found by\n"
     ]
    },
    {
     "name": "stdout",
     "output_type": "stream",
     "text": [
      "Password for assignment 6 is : B@hubAl!\n"
     ]
    }
   ],
   "source": [
    "padding_list=[]\n",
    "with open('padding.txt','r') as f:\n",
    "    padding_list .append( f.read().splitlines())\n",
    "padding_list=padding_list[0]\n",
    "p=''\n",
    "for i in range(0,len(padding_list)):\n",
    "    p+=bytes.fromhex(str(padding_list[i])).decode()\n",
    "print(\"Padding given:- \"+p)\n",
    "\n",
    "e = 5\n",
    "N = 84364443735725034864402554533826279174703893439763343343863260342756678609216895093779263028809246505955647572176682669445270008816481771701417554768871285020442403001649254405058303439906229201909599348669565697534331652019516409514800265887388539283381053937433496994442146419682027649079704982600857517093\n",
    "C = 23701787746829110396789094907319830305538180376427283226295906585301889543996533410539381779684366880970896279018807100530176651625086988655210858554133345906272561027798171440923147960165094891980452757852685707020289384698322665347609905744582248157246932007978339129630067022987966706955482598869800151693\n",
    "ans = ''\n",
    "for k in p:\n",
    "    ans += \"{:08b}\".format(ord(k))\n",
    "\n",
    "ZmodN=Zmod(N)\n",
    "e=ZmodN(e)\n",
    "c=ZmodN(C)\n",
    "\n",
    "for size_x in range(0,320,8):\n",
    "    ans_int=int(ans,2)\n",
    "    ans_int<<=(size_x)\n",
    "    p=ZmodN(ans_int)\n",
    "    \n",
    "    P.<x> = PolynomialRing(ZmodN,implementation='NTL')\n",
    "    f_x = (p + x)^e - c\n",
    "    root = f_x.small_roots()\n",
    "    \n",
    "    if(len(root)>0):\n",
    "        for j in range(0,len(root)):\n",
    "            a=int(root[j])\n",
    "            arr=[]\n",
    "            while(a>0):\n",
    "                arr.append(a%256)\n",
    "                a=int(a/256)\n",
    "            output=''\n",
    "            for i in range(len(arr)-1,-1,-1):\n",
    "                output=output+chr(arr[i])\n",
    "            print(\"Password for assignment 6 is :\"+output)\n",
    "        break"
   ]
  },
  {
   "cell_type": "code",
   "execution_count": 0,
   "metadata": {
    "collapsed": false
   },
   "outputs": [
   ],
   "source": [
   ]
  }
 ],
 "metadata": {
  "kernelspec": {
   "display_name": "SageMath 9.2",
   "language": "sagemath",
   "metadata": {
    "cocalc": {
     "description": "Open-source mathematical software system",
     "priority": 10,
     "url": "https://www.sagemath.org/"
    }
   },
   "name": "sage-9.2",
   "resource_dir": "/ext/jupyter/kernels/sage-9.2"
  },
  "language_info": {
   "codemirror_mode": {
    "name": "ipython",
    "version": 3
   },
   "file_extension": ".py",
   "mimetype": "text/x-python",
   "name": "python",
   "nbconvert_exporter": "python",
   "pygments_lexer": "ipython3",
   "version": "3.8.5"
  }
 },
 "nbformat": 4,
 "nbformat_minor": 4
}